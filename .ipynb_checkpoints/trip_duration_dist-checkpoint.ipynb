{
 "cells": [
  {
   "cell_type": "code",
   "execution_count": 2,
   "id": "36cad8aa-2ce0-4696-a350-de8e7648c754",
   "metadata": {},
   "outputs": [
    {
     "name": "stdout",
     "output_type": "stream",
     "text": [
      "Collecting pymc\n",
      "  Downloading pymc-5.22.0-py3-none-any.whl.metadata (16 kB)\n",
      "Collecting arviz>=0.13.0 (from pymc)\n",
      "  Downloading arviz-0.21.0-py3-none-any.whl.metadata (8.8 kB)\n",
      "Requirement already satisfied: cachetools>=4.2.1 in /home/codespace/anaconda3/lib/python3.12/site-packages (from pymc) (5.3.3)\n",
      "Requirement already satisfied: cloudpickle in /home/codespace/anaconda3/lib/python3.12/site-packages (from pymc) (3.0.0)\n",
      "Requirement already satisfied: numpy>=1.25.0 in /home/codespace/anaconda3/lib/python3.12/site-packages (from pymc) (1.26.4)\n",
      "Requirement already satisfied: pandas>=0.24.0 in /home/codespace/.local/lib/python3.12/site-packages (from pymc) (2.2.3)\n",
      "Collecting pytensor<2.31,>=2.30.2 (from pymc)\n",
      "  Downloading pytensor-2.30.3-cp312-cp312-manylinux_2_17_x86_64.manylinux2014_x86_64.whl.metadata (10.0 kB)\n",
      "Requirement already satisfied: rich>=13.7.1 in /home/codespace/anaconda3/lib/python3.12/site-packages (from pymc) (13.7.1)\n",
      "Requirement already satisfied: scipy>=1.4.1 in /home/codespace/.local/lib/python3.12/site-packages (from pymc) (1.15.2)\n",
      "Requirement already satisfied: threadpoolctl<4.0.0,>=3.1.0 in /home/codespace/.local/lib/python3.12/site-packages (from pymc) (3.6.0)\n",
      "Requirement already satisfied: typing-extensions>=3.7.4 in /home/codespace/.local/lib/python3.12/site-packages (from pymc) (4.12.2)\n",
      "Requirement already satisfied: setuptools>=60.0.0 in /home/codespace/.local/lib/python3.12/site-packages (from arviz>=0.13.0->pymc) (76.0.0)\n",
      "Requirement already satisfied: matplotlib>=3.5 in /home/codespace/.local/lib/python3.12/site-packages (from arviz>=0.13.0->pymc) (3.10.1)\n",
      "Requirement already satisfied: packaging in /home/codespace/.local/lib/python3.12/site-packages (from arviz>=0.13.0->pymc) (24.2)\n",
      "Requirement already satisfied: xarray>=2022.6.0 in /home/codespace/anaconda3/lib/python3.12/site-packages (from arviz>=0.13.0->pymc) (2023.6.0)\n",
      "Collecting h5netcdf>=1.0.2 (from arviz>=0.13.0->pymc)\n",
      "  Downloading h5netcdf-1.6.1-py3-none-any.whl.metadata (13 kB)\n",
      "Collecting xarray-einstats>=0.3 (from arviz>=0.13.0->pymc)\n",
      "  Downloading xarray_einstats-0.8.0-py3-none-any.whl.metadata (5.8 kB)\n",
      "Requirement already satisfied: python-dateutil>=2.8.2 in /home/codespace/.local/lib/python3.12/site-packages (from pandas>=0.24.0->pymc) (2.9.0.post0)\n",
      "Requirement already satisfied: pytz>=2020.1 in /home/codespace/.local/lib/python3.12/site-packages (from pandas>=0.24.0->pymc) (2025.1)\n",
      "Requirement already satisfied: tzdata>=2022.7 in /home/codespace/.local/lib/python3.12/site-packages (from pandas>=0.24.0->pymc) (2025.1)\n",
      "Collecting filelock>=3.15 (from pytensor<2.31,>=2.30.2->pymc)\n",
      "  Downloading filelock-3.18.0-py3-none-any.whl.metadata (2.9 kB)\n",
      "Collecting etuples (from pytensor<2.31,>=2.30.2->pymc)\n",
      "  Downloading etuples-0.3.9.tar.gz (30 kB)\n",
      "  Preparing metadata (setup.py) ... \u001b[?25ldone\n",
      "\u001b[?25hCollecting logical-unification (from pytensor<2.31,>=2.30.2->pymc)\n",
      "  Downloading logical-unification-0.4.6.tar.gz (31 kB)\n",
      "  Preparing metadata (setup.py) ... \u001b[?25ldone\n",
      "\u001b[?25hCollecting miniKanren (from pytensor<2.31,>=2.30.2->pymc)\n",
      "  Downloading miniKanren-1.0.3.tar.gz (41 kB)\n",
      "  Preparing metadata (setup.py) ... \u001b[?25ldone\n",
      "\u001b[?25hCollecting cons (from pytensor<2.31,>=2.30.2->pymc)\n",
      "  Downloading cons-0.4.6.tar.gz (26 kB)\n",
      "  Preparing metadata (setup.py) ... \u001b[?25ldone\n",
      "\u001b[?25hRequirement already satisfied: markdown-it-py>=2.2.0 in /home/codespace/anaconda3/lib/python3.12/site-packages (from rich>=13.7.1->pymc) (2.2.0)\n",
      "Requirement already satisfied: pygments<3.0.0,>=2.13.0 in /home/codespace/.local/lib/python3.12/site-packages (from rich>=13.7.1->pymc) (2.19.1)\n",
      "Requirement already satisfied: h5py in /home/codespace/anaconda3/lib/python3.12/site-packages (from h5netcdf>=1.0.2->arviz>=0.13.0->pymc) (3.11.0)\n",
      "Requirement already satisfied: mdurl~=0.1 in /home/codespace/anaconda3/lib/python3.12/site-packages (from markdown-it-py>=2.2.0->rich>=13.7.1->pymc) (0.1.0)\n",
      "Requirement already satisfied: contourpy>=1.0.1 in /home/codespace/.local/lib/python3.12/site-packages (from matplotlib>=3.5->arviz>=0.13.0->pymc) (1.3.1)\n",
      "Requirement already satisfied: cycler>=0.10 in /home/codespace/.local/lib/python3.12/site-packages (from matplotlib>=3.5->arviz>=0.13.0->pymc) (0.12.1)\n",
      "Requirement already satisfied: fonttools>=4.22.0 in /home/codespace/.local/lib/python3.12/site-packages (from matplotlib>=3.5->arviz>=0.13.0->pymc) (4.56.0)\n",
      "Requirement already satisfied: kiwisolver>=1.3.1 in /home/codespace/.local/lib/python3.12/site-packages (from matplotlib>=3.5->arviz>=0.13.0->pymc) (1.4.8)\n",
      "Requirement already satisfied: pillow>=8 in /home/codespace/.local/lib/python3.12/site-packages (from matplotlib>=3.5->arviz>=0.13.0->pymc) (11.1.0)\n",
      "Requirement already satisfied: pyparsing>=2.3.1 in /home/codespace/.local/lib/python3.12/site-packages (from matplotlib>=3.5->arviz>=0.13.0->pymc) (3.2.1)\n",
      "Requirement already satisfied: six>=1.5 in /home/codespace/.local/lib/python3.12/site-packages (from python-dateutil>=2.8.2->pandas>=0.24.0->pymc) (1.17.0)\n",
      "Requirement already satisfied: toolz in /home/codespace/anaconda3/lib/python3.12/site-packages (from logical-unification->pytensor<2.31,>=2.30.2->pymc) (0.12.0)\n",
      "Requirement already satisfied: multipledispatch in /home/codespace/anaconda3/lib/python3.12/site-packages (from logical-unification->pytensor<2.31,>=2.30.2->pymc) (0.6.0)\n",
      "Downloading pymc-5.22.0-py3-none-any.whl (517 kB)\n",
      "Downloading arviz-0.21.0-py3-none-any.whl (1.7 MB)\n",
      "\u001b[2K   \u001b[38;2;114;156;31m━━━━━━━━━━━━━━━━━━━━━━━━━━━━━━━━━━━━━━━━\u001b[0m \u001b[32m1.7/1.7 MB\u001b[0m \u001b[31m43.5 MB/s\u001b[0m eta \u001b[36m0:00:00\u001b[0m\n",
      "\u001b[?25hDownloading pytensor-2.30.3-cp312-cp312-manylinux_2_17_x86_64.manylinux2014_x86_64.whl (2.0 MB)\n",
      "\u001b[2K   \u001b[38;2;114;156;31m━━━━━━━━━━━━━━━━━━━━━━━━━━━━━━━━━━━━━━━━\u001b[0m \u001b[32m2.0/2.0 MB\u001b[0m \u001b[31m48.4 MB/s\u001b[0m eta \u001b[36m0:00:00\u001b[0m\n",
      "\u001b[?25hDownloading filelock-3.18.0-py3-none-any.whl (16 kB)\n",
      "Downloading h5netcdf-1.6.1-py3-none-any.whl (49 kB)\n",
      "Downloading xarray_einstats-0.8.0-py3-none-any.whl (32 kB)\n",
      "Building wheels for collected packages: cons, logical-unification, etuples, miniKanren\n",
      "  Building wheel for cons (setup.py) ... \u001b[?25ldone\n",
      "\u001b[?25h  Created wheel for cons: filename=cons-0.4.6-py3-none-any.whl size=9156 sha256=4b51f4f16b0908f35f3e793ee827b4b57be22b2b7e7a3b59d6defd29dab869aa\n",
      "  Stored in directory: /home/codespace/.cache/pip/wheels/91/0c/f7/7ba4ffbf0db6bf272bee59789131f6ec2d26966307a3054267\n",
      "  Building wheel for logical-unification (setup.py) ... \u001b[?25ldone\n",
      "\u001b[?25h  Created wheel for logical-unification: filename=logical_unification-0.4.6-py3-none-any.whl size=13973 sha256=c08963fdee6fb9095f84eae75763ff3b5374d23f8eeca61e1cd420bd430c5fce\n",
      "  Stored in directory: /home/codespace/.cache/pip/wheels/4b/07/cf/3fdaedafc40d7b1861c98be0df1bf3b2b3e87e03187fa95298\n",
      "  Building wheel for etuples (setup.py) ... \u001b[?25ldone\n",
      "\u001b[?25h  Created wheel for etuples: filename=etuples-0.3.9-py3-none-any.whl size=12673 sha256=77a2612628d2e5b51052ff393ff17e55e73948a2d3aed801b8acab1a924acbc3\n",
      "  Stored in directory: /home/codespace/.cache/pip/wheels/9e/ea/42/9562f37ce4e92913b74da9bcd504a749f0bf5d42d1d148ca76\n",
      "  Building wheel for miniKanren (setup.py) ... \u001b[?25ldone\n",
      "\u001b[?25h  Created wheel for miniKanren: filename=minikanren-1.0.3-py3-none-any.whl size=23963 sha256=698f0acaab2a59161a860b109e23fb9e78826f3106c0e3adc11d887d5a0340cf\n",
      "  Stored in directory: /home/codespace/.cache/pip/wheels/57/48/e3/441a42666f9a4ac9ccb6897d6046d81cf970c986be39938c6e\n",
      "Successfully built cons logical-unification etuples miniKanren\n",
      "Installing collected packages: filelock, logical-unification, h5netcdf, cons, xarray-einstats, etuples, miniKanren, arviz, pytensor, pymc\n",
      "  Attempting uninstall: filelock\n",
      "    Found existing installation: filelock 3.13.1\n",
      "    Uninstalling filelock-3.13.1:\n",
      "      Successfully uninstalled filelock-3.13.1\n",
      "Successfully installed arviz-0.21.0 cons-0.4.6 etuples-0.3.9 filelock-3.18.0 h5netcdf-1.6.1 logical-unification-0.4.6 miniKanren-1.0.3 pymc-5.22.0 pytensor-2.30.3 xarray-einstats-0.8.0\n"
     ]
    }
   ],
   "source": [
    "!pip install pymc"
   ]
  },
  {
   "cell_type": "code",
   "execution_count": 3,
   "id": "d723e7ef-8556-419a-9b48-a71fc5baa643",
   "metadata": {},
   "outputs": [],
   "source": [
    "import pymc as pm\n",
    "import numpy as np\n",
    "import pandas as pd\n",
    "import arviz as az\n",
    "from sklearn.preprocessing import OneHotEncoder"
   ]
  },
  {
   "cell_type": "code",
   "execution_count": 4,
   "id": "00c00bc3-9412-47ea-b3a5-c836aed6bc86",
   "metadata": {},
   "outputs": [
    {
     "name": "stdout",
     "output_type": "stream",
     "text": [
      "01 19\n",
      "02 19\n"
     ]
    }
   ],
   "source": [
    "year = '2023'\n",
    "months = ['01', '02']\n",
    "yellow_trip_data = pd.DataFrame()\n",
    "for month in months:\n",
    "    url = f'https://d37ci6vzurychx.cloudfront.net/trip-data/yellow_tripdata_{year}-{month}.parquet'\n",
    "    df = pd.read_parquet(url)\n",
    "    print(month, len(df.columns))\n",
    "    df['month'] = f'{year}-{month}'\n",
    "    yellow_trip_data = pd.concat([yellow_trip_data, df])"
   ]
  },
  {
   "cell_type": "code",
   "execution_count": null,
   "id": "cba8a427-ab7c-48bf-9eb1-53c402b3d7f4",
   "metadata": {},
   "outputs": [],
   "source": [
    "yellow_trip_data['duration'] = yellow_trip_data.tpep_dropoff_datetime - yellow_trip_data.tpep_pickup_datetime\n",
    "yellow_trip_data.duration = yellow_trip_data.duration.apply(lambda td: td.total_seconds() / 60)"
   ]
  },
  {
   "cell_type": "code",
   "execution_count": null,
   "id": "8038b144-ef99-4e43-b9dc-b1fae73f531d",
   "metadata": {},
   "outputs": [],
   "source": [
    "yellow_filtered = yellow_trip_data[(yellow_trip_data.duration > 0) & (yellow_trip_data.duration <= 120)]"
   ]
  },
  {
   "cell_type": "code",
   "execution_count": null,
   "id": "b2cd7e41-98d9-4fb8-8a65-5cf7b9df8518",
   "metadata": {},
   "outputs": [],
   "source": [
    "\n",
    "\n",
    "# Data preparation\n",
    "def preprocess_data(df):\n",
    "    # Extract temporal features\n",
    "    df['hour'] = df['pickup_datetime'].dt.hour\n",
    "    df['dayofweek'] = df['pickup_datetime'].dt.dayofweek\n",
    "    \n",
    "    # One-hot encode locations with first category dropped\n",
    "    encoder = OneHotEncoder(drop='first', sparse_output=False)\n",
    "    pickup_encoded = encoder.fit_transform(df[['pickup_location']])\n",
    "    dropoff_encoded = encoder.fit_transform(df[['dropoff_location']])\n",
    "    \n",
    "    # Combine features\n",
    "    temporal_features = df[['hour', 'dayofweek']]\n",
    "    X = np.hstack([temporal_features, pickup_encoded, dropoff_encoded])\n",
    "    \n",
    "    return X, df['duration'].values\n",
    "\n",
    "# Model specification\n",
    "def build_weibull_model(X, y):\n",
    "    with pm.Model() as model:\n",
    "        # Regression coefficients (including intercept)\n",
    "        beta = pm.Normal('beta', mu=0, sigma=1, shape=X.shape[1])\n",
    "        \n",
    "        # Shape parameter (constrained positive)\n",
    "        alpha = pm.HalfNormal('alpha', sigma=1)\n",
    "        \n",
    "        # Linear predictor for scale parameter\n",
    "        log_scale = pm.math.dot(X, beta)\n",
    "        scale = pm.math.exp(log_scale)\n",
    "        \n",
    "        # Weibull likelihood\n",
    "        pm.Weibull('duration', alpha=alpha, beta=scale, observed=y)\n",
    "        \n",
    "    return model\n",
    "\n",
    "# Usage example\n",
    "if __name__ == \"__main__\":\n",
    "    # Load your DataFrame (df must contain: pickup_datetime, pickup_location, dropoff_location, duration)\n",
    "    # df = pd.read_csv(...)\n",
    "    \n",
    "    X, y = preprocess_data(df)\n",
    "    \n",
    "    # Build and sample model\n",
    "    model = build_weibull_model(X, y)\n",
    "    with model:\n",
    "        trace = pm.sample(2000, tune=1000, target_accept=0.95)\n",
    "    \n",
    "    # Analyze results\n",
    "    print(az.summary(trace, var_names=['beta', 'alpha']))\n",
    "    pm.plot_trace(trace, var_names=['beta', 'alpha'])"
   ]
  }
 ],
 "metadata": {
  "kernelspec": {
   "display_name": "Python 3 (ipykernel)",
   "language": "python",
   "name": "python3"
  },
  "language_info": {
   "codemirror_mode": {
    "name": "ipython",
    "version": 3
   },
   "file_extension": ".py",
   "mimetype": "text/x-python",
   "name": "python",
   "nbconvert_exporter": "python",
   "pygments_lexer": "ipython3",
   "version": "3.12.7"
  }
 },
 "nbformat": 4,
 "nbformat_minor": 5
}
