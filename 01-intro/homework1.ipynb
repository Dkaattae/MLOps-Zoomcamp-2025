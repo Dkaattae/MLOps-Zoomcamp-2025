{
 "cells": [
  {
   "cell_type": "code",
   "execution_count": 1,
   "id": "eab90894-c1e7-4839-919c-655e78d5ade1",
   "metadata": {},
   "outputs": [],
   "source": [
    "import pandas as pd"
   ]
  },
  {
   "cell_type": "code",
   "execution_count": 2,
   "id": "ac8a18a0-f211-438b-bdb0-27018796cd8f",
   "metadata": {},
   "outputs": [
    {
     "data": {
      "text/plain": [
       "'2.2.3'"
      ]
     },
     "execution_count": 2,
     "metadata": {},
     "output_type": "execute_result"
    }
   ],
   "source": [
    "pd.__version__"
   ]
  },
  {
   "cell_type": "code",
   "execution_count": 3,
   "id": "c6c85a50-e02b-4162-95db-6953e67d50b2",
   "metadata": {},
   "outputs": [
    {
     "name": "stdout",
     "output_type": "stream",
     "text": [
      "Requirement already satisfied: pyarrow in /home/codespace/anaconda3/lib/python3.12/site-packages (16.1.0)\n",
      "Requirement already satisfied: numpy>=1.16.6 in /home/codespace/anaconda3/lib/python3.12/site-packages (from pyarrow) (1.26.4)\n"
     ]
    }
   ],
   "source": [
    "!pip install pyarrow"
   ]
  },
  {
   "cell_type": "code",
   "execution_count": 2,
   "id": "17dd7ee2-497d-484e-94ec-75d5c12f4978",
   "metadata": {},
   "outputs": [],
   "source": [
    "import sklearn\n",
    "from sklearn.feature_extraction import DictVectorizer\n",
    "from sklearn.linear_model import LinearRegression\n",
    "from sklearn.metrics import root_mean_squared_error"
   ]
  },
  {
   "cell_type": "code",
   "execution_count": 3,
   "id": "714c4bc8-d1df-4476-8738-d7eb90fbfa56",
   "metadata": {},
   "outputs": [],
   "source": [
    "import seaborn as sns\n",
    "import matplotlib.pyplot as plt"
   ]
  },
  {
   "cell_type": "code",
   "execution_count": 4,
   "id": "b6e04500-c3dd-438a-ab6b-a41f5e0f688d",
   "metadata": {},
   "outputs": [],
   "source": [
    "import os\n",
    "import pickle"
   ]
  },
  {
   "cell_type": "code",
   "execution_count": 4,
   "id": "bd2750cf-9d25-4d09-9ecb-1991c2cbd147",
   "metadata": {},
   "outputs": [
    {
     "data": {
      "text/plain": [
       "'1.6.1'"
      ]
     },
     "execution_count": 4,
     "metadata": {},
     "output_type": "execute_result"
    }
   ],
   "source": [
    "sklearn.__version__"
   ]
  },
  {
   "cell_type": "code",
   "execution_count": 5,
   "id": "b01ef67c-5671-4a57-a8cd-b56b9e1ee501",
   "metadata": {},
   "outputs": [
    {
     "name": "stdout",
     "output_type": "stream",
     "text": [
      "01 19\n",
      "02 19\n"
     ]
    }
   ],
   "source": [
    "year = '2023'\n",
    "months = ['01', '02']\n",
    "yellow_trip_data = pd.DataFrame()\n",
    "for month in months:\n",
    "    url = f'https://d37ci6vzurychx.cloudfront.net/trip-data/yellow_tripdata_{year}-{month}.parquet'\n",
    "    df = pd.read_parquet(url)\n",
    "    print(month, len(df.columns))\n",
    "    df['month'] = f'{year}-{month}'\n",
    "    yellow_trip_data = pd.concat([yellow_trip_data, df])"
   ]
  },
  {
   "cell_type": "code",
   "execution_count": 6,
   "id": "2aea927a-fc20-46d9-90e0-23cf1974c5b9",
   "metadata": {},
   "outputs": [],
   "source": [
    "yellow_trip_data['duration'] = yellow_trip_data.tpep_dropoff_datetime - yellow_trip_data.tpep_pickup_datetime\n",
    "yellow_trip_data.duration = yellow_trip_data.duration.apply(lambda td: td.total_seconds() / 60)"
   ]
  },
  {
   "cell_type": "code",
   "execution_count": 5,
   "id": "3d2f39ef-dad4-4a6e-be56-c76d9c6f6093",
   "metadata": {},
   "outputs": [
    {
     "data": {
      "text/plain": [
       "42.594351241920904"
      ]
     },
     "execution_count": 5,
     "metadata": {},
     "output_type": "execute_result"
    }
   ],
   "source": [
    "yellow_trip_data[yellow_trip_data['month']=='2023-01']['duration'].std()"
   ]
  },
  {
   "cell_type": "code",
   "execution_count": 21,
   "id": "f1d9e94f-0085-465e-87f6-7fe4f975f0ed",
   "metadata": {},
   "outputs": [
    {
     "data": {
      "text/plain": [
       "3066766"
      ]
     },
     "execution_count": 21,
     "metadata": {},
     "output_type": "execute_result"
    }
   ],
   "source": [
    "len(yellow_trip_data[yellow_trip_data['month']=='2023-01'])"
   ]
  },
  {
   "cell_type": "code",
   "execution_count": 7,
   "id": "c94836e9-a81d-4b54-8933-ce78d035fc02",
   "metadata": {},
   "outputs": [
    {
     "data": {
      "text/plain": [
       "3009173"
      ]
     },
     "execution_count": 7,
     "metadata": {},
     "output_type": "execute_result"
    }
   ],
   "source": [
    "yellow_filtered = yellow_trip_data[(yellow_trip_data.month=='2023-01') & (yellow_trip_data.duration >= 1) & (yellow_trip_data.duration <= 60)]\n",
    "len(yellow_filtered)"
   ]
  },
  {
   "cell_type": "code",
   "execution_count": 24,
   "id": "5e2f6e48-cbc1-47db-802b-41695fffeb96",
   "metadata": {},
   "outputs": [
    {
     "data": {
      "text/plain": [
       "0.9812202822125979"
      ]
     },
     "execution_count": 24,
     "metadata": {},
     "output_type": "execute_result"
    }
   ],
   "source": [
    "len(yellow_filtered) / len(yellow_trip_data[yellow_trip_data['month']=='2023-01'])"
   ]
  },
  {
   "cell_type": "code",
   "execution_count": 25,
   "id": "240ac945-0b99-40d9-a054-8cc8bb5b0657",
   "metadata": {},
   "outputs": [
    {
     "data": {
      "text/plain": [
       "0.9806717283752243"
      ]
     },
     "execution_count": 25,
     "metadata": {},
     "output_type": "execute_result"
    }
   ],
   "source": [
    "len(yellow_trip_data[(yellow_trip_data.duration >= 1) & (yellow_trip_data.duration <= 60)]) / len(yellow_trip_data)"
   ]
  },
  {
   "cell_type": "code",
   "execution_count": 7,
   "id": "d4d45057-48d8-4174-8ca6-cefb4d19d229",
   "metadata": {},
   "outputs": [],
   "source": [
    "categorical = ['PULocationID', 'DOLocationID']\n",
    "yellow_trip_data[categorical] = yellow_trip_data[categorical].astype(str)"
   ]
  },
  {
   "cell_type": "code",
   "execution_count": 7,
   "id": "3eb1b0aa-bcae-4e8a-8d5d-9ff24106fdd3",
   "metadata": {},
   "outputs": [
    {
     "name": "stdout",
     "output_type": "stream",
     "text": [
      "515\n"
     ]
    },
    {
     "data": {
      "text/plain": [
       "7.649262443101424"
      ]
     },
     "execution_count": 7,
     "metadata": {},
     "output_type": "execute_result"
    }
   ],
   "source": [
    "train_data = yellow_trip_data[(yellow_trip_data.month=='2023-01') & (yellow_trip_data.duration >= 1) & (yellow_trip_data.duration <= 60)]\n",
    "train_dicts = train_data[categorical].to_dict(orient='records')\n",
    "\n",
    "dv = DictVectorizer()\n",
    "X_train = dv.fit_transform(train_dicts)\n",
    "\n",
    "print(len(dv.get_feature_names_out()))\n",
    "\n",
    "target = 'duration'\n",
    "y_train = train_data[target].values\n",
    "lr = LinearRegression()\n",
    "lr.fit(X_train, y_train)\n",
    "\n",
    "y_pred = lr.predict(X_train)\n",
    "\n",
    "root_mean_squared_error(y_train, y_pred)"
   ]
  },
  {
   "cell_type": "code",
   "execution_count": 12,
   "id": "c86c1e6b-77f8-4647-9dd8-f9e0b53b0ad6",
   "metadata": {},
   "outputs": [],
   "source": [
    "file_path = 'models/lin_reg.bin'\n",
    "os.makedirs(os.path.dirname(file_path), exist_ok=True)\n",
    "with open(file_path, 'wb') as f_out:\n",
    "    pickle.dump((dv, lr), f_out)"
   ]
  },
  {
   "cell_type": "code",
   "execution_count": 8,
   "id": "57125664-a321-4c09-9ab4-d3ed90b99851",
   "metadata": {},
   "outputs": [],
   "source": [
    "file_path = 'models/lin_reg.bin'\n",
    "with open(file_path, 'rb') as f_in:\n",
    "    (dv, lr) = pickle.load(f_in)"
   ]
  },
  {
   "cell_type": "code",
   "execution_count": 9,
   "id": "f8101f2b-255c-4be0-968b-f9998610f064",
   "metadata": {},
   "outputs": [],
   "source": [
    "val_data = yellow_trip_data[(yellow_trip_data.month=='2023-02') & (yellow_trip_data.duration >= 1) & (yellow_trip_data.duration <= 60)]\n",
    "val_dicts = val_data[categorical].to_dict(orient='records')\n",
    "X_val = dv.transform(val_dicts)\n",
    "target = 'duration'\n",
    "y_val = val_data[target].values\n"
   ]
  },
  {
   "cell_type": "code",
   "execution_count": 10,
   "id": "698c9ec1-fbc0-4dbe-9071-9717e601df1f",
   "metadata": {},
   "outputs": [
    {
     "data": {
      "text/plain": [
       "7.811813318594438"
      ]
     },
     "execution_count": 10,
     "metadata": {},
     "output_type": "execute_result"
    }
   ],
   "source": [
    "\n",
    "y_pred = lr.predict(X_val)\n",
    "\n",
    "root_mean_squared_error(y_val, y_pred)"
   ]
  },
  {
   "cell_type": "code",
   "execution_count": 11,
   "id": "adc14d8c-3351-4697-91da-b75c3786bc6b",
   "metadata": {},
   "outputs": [
    {
     "name": "stdout",
     "output_type": "stream",
     "text": [
      "Shape parameter: 1.4275681979522923\n",
      "Scale parameter: 16.144957072184418\n"
     ]
    },
    {
     "data": {
      "image/png": "[encoded data removed]",
      "text/plain": [
       "<Figure size 640x480 with 1 Axes>"
      ]
     },
     "metadata": {},
     "output_type": "display_data"
    }
   ],
   "source": [
    "import numpy as np\n",
    "import scipy.stats as st\n",
    "import matplotlib.pyplot as plt\n",
    "\n",
    "# Sample data (replace with your actual data)\n",
    "data = yellow_trip_data[(yellow_trip_data.duration > 0) & (yellow_trip_data.duration <= 120)]['duration']\n",
    "\n",
    "# Fit the Weibull distribution\n",
    "shape, loc, scale = st.weibull_min.fit(data, floc=0)\n",
    "\n",
    "# Print the fitted parameters\n",
    "print(\"Shape parameter:\", shape)\n",
    "print(\"Scale parameter:\", scale)\n",
    "\n",
    "# Generate x values for plotting the PDF\n",
    "x = np.linspace(0, max(data) * 1.2, 100)\n",
    "\n",
    "# Plot the histogram of the data and the fitted PDF\n",
    "plt.hist(data, bins=50, density=True, alpha=0.6, label='Data')\n",
    "plt.plot(x, st.weibull_min.pdf(x, shape, loc, scale), 'r-', label='Fitted Weibull')\n",
    "plt.xlabel('Value')\n",
    "plt.ylabel('Density')\n",
    "plt.title('Weibull Distribution Fitting')\n",
    "plt.legend()\n",
    "plt.show()"
   ]
  },
  {
   "cell_type": "code",
   "execution_count": null,
   "id": "f582b682-cf69-4d64-80f3-54d37cf2e582",
   "metadata": {},
   "outputs": [],
   "source": []
  }
 ],
 "metadata": {
  "kernelspec": {
   "display_name": "Python 3 (ipykernel)",
   "language": "python",
   "name": "python3"
  },
  "language_info": {
   "codemirror_mode": {
    "name": "ipython",
    "version": 3
   },
   "file_extension": ".py",
   "mimetype": "text/x-python",
   "name": "python",
   "nbconvert_exporter": "python",
   "pygments_lexer": "ipython3",
   "version": "3.12.7"
  }
 },
 "nbformat": 4,
 "nbformat_minor": 5
}
